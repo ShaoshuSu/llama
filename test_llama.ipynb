{
 "cells": [
  {
   "cell_type": "code",
   "execution_count": 1,
   "metadata": {},
   "outputs": [
    {
     "name": "stdout",
     "output_type": "stream",
     "text": [
      "> initializing model parallel with size 1\n",
      "> initializing ddp with size 1\n",
      "> initializing pipeline with size 1\n"
     ]
    },
    {
     "name": "stderr",
     "output_type": "stream",
     "text": [
      "/home/shaoshu/.conda/envs/roboranking/lib/python3.9/site-packages/torch/__init__.py:690: UserWarning: torch.set_default_tensor_type() is deprecated as of PyTorch 2.1, please use torch.set_default_dtype() and torch.set_default_device() as alternatives. (Triggered internally at ../torch/csrc/tensor/python_tensor.cpp:451.)\n",
      "  _C._set_default_tensor_type(t)\n"
     ]
    },
    {
     "name": "stdout",
     "output_type": "stream",
     "text": [
      "Loaded in 9.45 seconds\n"
     ]
    }
   ],
   "source": [
    "from llama_generation import LLAMA_Generation\n",
    "\n",
    "import os\n",
    "\n",
    "os.environ['MASTER_ADDR'] = 'localhost'\n",
    "os.environ['MASTER_PORT'] = '12356'\n",
    "os.environ['RANK'] = '0'\n",
    "os.environ['WORLD_SIZE'] = '1'\n",
    "\n",
    "agent = LLAMA_Generation(\n",
    "        ckpt_dir='llama-2-7b-chat/',\n",
    "        tokenizer_path='tokenizer.model',\n",
    "        max_seq_len=512,\n",
    "        max_batch_size=8\n",
    ")"
   ]
  },
  {
   "cell_type": "code",
   "execution_count": 2,
   "metadata": {},
   "outputs": [
    {
     "name": "stdout",
     "output_type": "stream",
     "text": [
      "YES\n",
      "8.559226989746094e-05\n"
     ]
    }
   ],
   "source": [
    "content_text =\\\n",
    "    \"Yan Zhuang (Senior Member, IEEE) received the Ph.D. degree in control theory and control engineering from the Dalian University of Technology, \\\n",
    "Dalian, China.,He is a Professor with the School of Artificial Intelligence, Dalian University of Technology, leading the Intelligent Robotics Laboratory \\\n",
    "(DUT Robotics Laboratory). His research interests include intelligent sensing, modeling, scene recognition, and understanding for mobile robots and other \\\n",
    "autonomous systems.(Based on document published on 8 August 2023).\"\n",
    "\n",
    "response = agent.generate(content_text, verbose=False)\n",
    "\n",
    "import time\n",
    "start = time.time()\n",
    "# remove space in string\n",
    "response = response.replace(\" \", \"\")\n",
    "print(response)\n",
    "print(time.time() - start)"
   ]
  },
  {
   "cell_type": "markdown",
   "metadata": {},
   "source": [
    "# delete the agent and empty the GPU memory"
   ]
  },
  {
   "cell_type": "code",
   "execution_count": 8,
   "metadata": {},
   "outputs": [],
   "source": [
    "del agent\n",
    "import gc\n",
    "gc.collect()\n",
    "# clena the GPU memory\n",
    "import torch\n",
    "torch.cuda.empty_cache()"
   ]
  }
 ],
 "metadata": {
  "kernelspec": {
   "display_name": "roboranking",
   "language": "python",
   "name": "python3"
  },
  "language_info": {
   "codemirror_mode": {
    "name": "ipython",
    "version": 3
   },
   "file_extension": ".py",
   "mimetype": "text/x-python",
   "name": "python",
   "nbconvert_exporter": "python",
   "pygments_lexer": "ipython3",
   "version": "3.9.18"
  }
 },
 "nbformat": 4,
 "nbformat_minor": 2
}
