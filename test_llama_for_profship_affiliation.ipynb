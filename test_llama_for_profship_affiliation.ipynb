{
 "cells": [
  {
   "cell_type": "code",
   "execution_count": 2,
   "metadata": {},
   "outputs": [
    {
     "name": "stdout",
     "output_type": "stream",
     "text": [
      "> initializing model parallel with size 1\n",
      "> initializing ddp with size 1\n",
      "> initializing pipeline with size 1\n"
     ]
    },
    {
     "name": "stderr",
     "output_type": "stream",
     "text": [
      "/data/shaoshus/miniconda3/envs/roboranking/lib/python3.9/site-packages/torch/__init__.py:696: UserWarning: torch.set_default_tensor_type() is deprecated as of PyTorch 2.1, please use torch.set_default_dtype() and torch.set_default_device() as alternatives. (Triggered internally at ../torch/csrc/tensor/python_tensor.cpp:451.)\n",
      "  _C._set_default_tensor_type(t)\n"
     ]
    },
    {
     "name": "stdout",
     "output_type": "stream",
     "text": [
      "Loaded in 11.50 seconds\n"
     ]
    }
   ],
   "source": [
    "from llama_generation import LLAMA_Generation\n",
    "\n",
    "import os\n",
    "\n",
    "os.environ['MASTER_ADDR'] = 'localhost'\n",
    "os.environ['MASTER_PORT'] = '12357'\n",
    "os.environ['RANK'] = '0'\n",
    "os.environ['WORLD_SIZE'] = '1'\n",
    "\n",
    "agent = LLAMA_Generation(\n",
    "        ckpt_dir='llama-2-7b-chat/',\n",
    "        tokenizer_path='tokenizer.model',\n",
    "        max_seq_len=512 * 6,\n",
    "        max_batch_size=8\n",
    ")"
   ]
  },
  {
   "cell_type": "markdown",
   "metadata": {},
   "source": [
    "# judge professorship"
   ]
  },
  {
   "cell_type": "markdown",
   "metadata": {},
   "source": []
  },
  {
   "cell_type": "code",
   "execution_count": 3,
   "metadata": {},
   "outputs": [
    {
     "data": {
      "text/plain": [
       "\"You are tasked with analyzing the information provided to determineif the individual in question holds the position of a professor.based on the information available.Please provide your response in the following format: 'YES', 'NO', or 'NOT SURE'.You can answer 'YES' only when that text mentions that the individual is a professor.You can answer 'YES' only when that text has direct confirmation of professorshipResearcher is not a direct confirmation of professorship.\""
      ]
     },
     "execution_count": 3,
     "metadata": {},
     "output_type": "execute_result"
    }
   ],
   "source": [
    "agent.instructions_text"
   ]
  },
  {
   "cell_type": "code",
   "execution_count": 5,
   "metadata": {},
   "outputs": [
    {
     "name": "stdout",
     "output_type": "stream",
     "text": [
      "NO\n",
      " Based on the information provided, I would answer 'NO' because the text does not directly confirm that Changhwan Kim is a professor. While it mentions that he received a Ph.D. degree in mechanical engineering from The University of Iowa in 2002, it does not specify his current academic position or title. Therefore, I cannot confirm with certainty that he holds the position of a professor.\n",
      "3.5884029865264893\n"
     ]
    }
   ],
   "source": [
    "content_text =\\\n",
    "    \"Changhwan Kim (Member, IEEE) received the B.S. degree in mechanical engineering and the M.S. degree in machine design engineering from Hanyang University, Seoul, South Korea, in 1993 and 1995, respectively, and the Ph.D. degree in mechanical engineering from The University of Iowa, Iowa City, IA, USA, in 2002. From 2002 to 2004, he was a Research Associate with the Robotics and Automation Laboratory, University of Notre Dame, Notre Dame, IN, USA. Since 2004, he has been working at the Korea Institute of Science and Technology (KIST), Seoul. His research interests include task and motion planning for robot manipulation and social robots.(Based on document published on 26 December 2022).\"\n",
    "\n",
    "\n",
    "# content_text = \"N/A\"\n",
    "# content_text = \"Yan Zhuang (Senior Member, IEEE) is not a professor\"\n",
    "\n",
    "import time\n",
    "start = time.time()\n",
    "\n",
    "response, original_answer = agent.judge_professorship(content_text, verbose=False)\n",
    "\n",
    "\n",
    "# remove space in string\n",
    "# response = response.replace(\" \", \"\")\n",
    "print(response)\n",
    "print(original_answer)\n",
    "print(time.time() - start)"
   ]
  },
  {
   "cell_type": "code",
   "execution_count": 3,
   "metadata": {},
   "outputs": [
    {
     "name": "stdout",
     "output_type": "stream",
     "text": [
      "\n",
      "07/7628\n",
      "11\n",
      "['Munich Institute of Robotics and Machine Intelligence (MIRMI), Technische Universität München (TUM), Germany']\n",
      "N/A\n",
      "NO\n",
      "N/A\n",
      "1.049041748046875e-05\n",
      "\n",
      "123/6833\n",
      "11\n",
      "['WIRobotics, Yongin, South Korea']\n",
      "Biography\n",
      "Younbaek Lee received the M.S. degree in mechanical engineering from Korea Advanced Institute of Science and Technology, Daejeon, South Korea, in 2003.,He is currently a research staff member of the Samsung Advanced Institute of Technology, South Korea. His research interests include electromechanical design, medical/rehabilitation robotics, humanoids, manipulators and physical human-machine interaction.(Based on document published on 14 June 2019).\n",
      "NOT SURE\n",
      " Based on the information provided, I would answer \"NOT SURE\" whether the individual in question holds the position of a professor. The document does not directly confirm that the person is a professor, and the title of the position is not mentioned. The individual's current role is mentioned as a research staff member of the Samsung Advanced Institute of Technology, which does not necessarily imply a professorship.\n",
      "0.0001537799835205078\n",
      "\n",
      "133/3411\n",
      "11\n",
      "['Centre for Advanced Robotics Technology Innovation (CARTIN)', 'School of Electrical and Electronic Engineering', 'Nanyang Technological University, Singapore']\n",
      "Biography\n",
      "Shenghai Yuan received the bachelor’s and Ph.D. degrees in electrical and electronic engineering from the Nanyang Technological University, Singapore, in 2013 and 2019, respectively.,He is a Research Fellow with the EEE Internet of Things Lab, Nanyang Technological University. His research interests include the area of perception, sensor fusion for robust navigation, machine learning, and autonomous system.(Based on document published on 15 August 2023).\n",
      "NO\n",
      " Based on the information provided in the biography, I would answer 'NO' to the question of whether Shenghai Yuan holds the position of a professor. The biography does not mention anything that directly confirms Yuan's professorship. While it does mention that he is a Research Fellow with the EEE Internet of Things Lab at Nanyang Technological University, this does not necessarily imply that he holds a professorship. Therefore, based on the information available, I cannot confirm whether Yuan is a professor or not.\n",
      "8.559226989746094e-05\n",
      "\n",
      "133/4199\n",
      "16\n",
      "['AiR', 'Tsinghua University', 'Beijing, China']\n",
      "Biography\n",
      "Guyue Zhou (Member, IEEE) received the B.E. degree from the Harbin Institute of Technology, Harbin, China, in 2010, and the Ph.D. degree from the Hong Kong University of Science and Technology, Hong Kong, China, in 2014. He is currently an Associate Professor with the Institute for AI Industry Research (AIR), Tsinghua University. His research interests include advanced manufacturing, robotics, computer vision, and human–machine interaction.(Based on document published on 22 August 2022).\n",
      "YES\n",
      " Based on the information provided, I would answer 'YES' to your question. The text explicitly states that Guyue Zhou is an Associate Professor with the Institute for AI Industry Research (AIR) at Tsinghua University, which implies that he holds the position of a professor.\n",
      "7.796287536621094e-05\n",
      "\n",
      "135/8514\n",
      "11\n",
      "['California Institute of Technology']\n",
      "Biography\n",
      "Wyatt Ubellacker Wyatt Ubellacker received his SB and SM degrees in Mechanical Engineering from the Massachusetts Institute of Technology and joined JPL as Robotics Technologist in 2016, where he worked on a number of projects, including the role as Flight Software and Algorithms Lead for the Mars 2020 Perseverance rover's Adaptive Caching Assem-bly. Wyatt is now pursuing his PhD in Controls and Dynamical Systems at the California Institute of Technology, with a focus on dynamic behaviors for legged robotic platforms.(Based on document published on 10 August 2022).\n",
      "NO\n",
      " Based on the information provided in the biography, I would answer 'NO' to the question of whether Wyatt Ubellacker holds the position of a professor. The biography does not mention anything about Ubellacker being a professor, and instead refers to him as a Robotics Technologist and a PhD student in Controls and Dynamical Systems at the California Institute of Technology. Therefore, there is no direct confirmation of Ubellacker's professorship in the provided text.\n",
      "0.0001590251922607422\n",
      "\n",
      "139/3635\n",
      "12\n",
      "[\"Istituto Dalle Molle di studi sull'Intelligenza Artificiale\", 'Scuola Universitaria Professionale della Svizzera Italiana', 'Università della Svizzera italiana, Lugano, Switzerland']\n",
      "Biography\n",
      "Loris Roveda (Member, IEEE) received the M.Sc. and Ph.D. degrees in mechanical engineering from the Politecnico di Milano, in 2011 and 2015, respectively. Currently, he is a Senior Researcher at SUPSI-IDSIA, working on AI and ML techniques applied to industrial robotics (such as robot control, human-robot collaboration, and dynamics identification) and exoskeleton design and control. He has been involved in many national and European projects. He is also coordinating the EUROBENCH STEPbySTEP Project, the EUROBENCH XSPINE and REMOTe_XSPINE projects, and the Hasler Foundation RoboPref Project. He is the P.I. of the H2020 CS2 ASSASSINN Project.(Based on document published on 30 November 2021).\n",
      "YES\n",
      " Based on the information provided in the biography, I would answer:\n",
      "YES\n",
      "The text mentions that Loris Roveda is a Senior Researcher at SUPSI-IDSIA, which suggests that he is affiliated with a academic institution. Additionally, the text highlights his involvement in various national and European projects, which further indicates that he is a researcher in the field of mechanical engineering. While the text does not explicitly state that he is a professor, the language used suggests that he is a senior researcher or professor at the institution he is affiliated with. Therefore, based on the information provided, it is likely that Loris Roveda holds the position of a professor.\n",
      "8.082389831542969e-05\n",
      "\n",
      "140/4320\n",
      "20\n",
      "['Korea Institute of Science and Technology, Seoul, South Korea']\n",
      "Biography\n",
      "Changhwan Kim (Member, IEEE) received the B.S. degree in mechanical engineering and the M.S. degree in machine design engineering from Hanyang University, Seoul, South Korea, in 1993 and 1995, respectively, and the Ph.D. degree in mechanical engineering from The University of Iowa, Iowa City, IA, USA, in 2002. From 2002 to 2004, he was a Research Associate with the Robotics and Automation Laboratory, University of Notre Dame, Notre Dame, IN, USA. Since 2004, he has been working at the Korea Institute of Science and Technology (KIST), Seoul. His research interests include task and motion planning for robot manipulation and social robots.(Based on document published on 26 December 2022).\n",
      "NO\n",
      " Based on the information provided, I would answer 'NO' to the question of whether the individual in question holds the position of a professor. While the individual, Changhwan Kim, has a Ph.D. degree in mechanical engineering, there is no direct confirmation of his professorship in the provided biography. The biography only mentions his work experience as a Research Associate and his current position at the Korea Institute of Science and Technology (KIST), but does not indicate that he holds a professorship. Therefore, I cannot confirm that he is a professor.\n",
      "0.00011157989501953125\n",
      "\n",
      "143/1229\n",
      "11\n",
      "['Institute for Anthropomatics and Robotics (IAR-IPR), Karlsruhe Institute of Technology (KIT)']\n",
      "N/A\n",
      "NO\n",
      "N/A\n",
      "8.58306884765625e-06\n",
      "\n",
      "153/0260\n",
      "15\n",
      "['Faculty of Science and Engineering', 'University of Groningen', 'Groningen, The Netherlands']\n",
      "N/A\n",
      "NO\n",
      "N/A\n",
      "9.298324584960938e-06\n",
      "\n",
      "153/7463\n",
      "11\n",
      "['Department of Robotics', 'University of Michigan', 'Ann Arbor, MI, USA', 'J. Mike Walker ’66 Department of Mechanical Engineering', 'Texas A&M University', 'College Station, TX, USA']\n",
      "Biography\n",
      "Gray Cortright Thomas (Member, IEEE) received the B.S. degree in robotics engineering from the Olin College of Engineering, Needham, MA, USA, in 2012, and the Ph.D. degree in mechanical engineering from the University of Texas at Austin, Austin, TX, USA, in 2019.,In 2019, he began a Postdoctoral Fellowship with the University of Michigan, Ann Arbor, MI, USA, where he is currently a Research Investigator with the Department of Robotics. His research interests include direct human control of physically interactive robots, system identification, applied state estimation, robust control, force feedback, and series elastic actuation.(Based on document published on 23 January 2023).\n",
      "NO\n",
      " Based on the information provided in the biography, I would answer 'NO' to the question of whether Gray Cortright Thomas holds the position of a professor. While the biography mentions that Thomas is a Research Investigator with the Department of Robotics at the University of Michigan, it does not provide any direct confirmation of his professorship. Therefore, I cannot confirm with certainty that he holds the position of a professor.\n",
      "7.534027099609375e-05\n",
      "\n",
      "160/9961\n",
      "11\n",
      "['Autonomous Systems Lab (ASL), ETH Zurich']\n",
      "N/A\n",
      "NO\n",
      "N/A\n",
      "9.059906005859375e-06\n",
      "11\n"
     ]
    }
   ],
   "source": [
    "import json\n",
    "with open(f'auther_database_v5_5_2_extended_no_score.json', 'r') as file:\n",
    "    author_database = json.load(file)\n",
    "\n",
    "\n",
    "import time\n",
    "\n",
    "min_papers = 10 \n",
    "count = 0\n",
    "\n",
    "for pid, author in author_database.items():\n",
    "    \n",
    "    # if 'robor_affiliation' not in author and [\"is_professor\"] == 'None':\n",
    "    if 'is_professor' in author:\n",
    "        if author['is_professor'] == 'None' and author['number_of_ieee_paper'] >10:\n",
    "        # if author['is_professor'] == 'None' and author['num_papers'] >10:\n",
    "        # if author['is_professor'] == 'None' and author['number_of_ieee_paper'] >10 and 'ieee_affiliation' not in author:\n",
    "            \n",
    "            print()\n",
    "            print(pid)\n",
    "            print(author['number_of_ieee_paper'])\n",
    "            print(author['ieee_affiliation'])\n",
    "            print(author['ieee_biography'])\n",
    "\n",
    "            if author['ieee_biography'] == 'N/A':\n",
    "                response = 'NO'\n",
    "                original_answer = 'N/A'\n",
    "            else:\n",
    "                response,original_answer = agent.judge_professorship(author['ieee_biography'], verbose=False)\n",
    "\n",
    "            start = time.time()\n",
    "            # remove space in string\n",
    "            # response = response.replace(\" \", \"\")\n",
    "            print(response)\n",
    "            print(original_answer)\n",
    "            print(time.time() - start)\n",
    "\n",
    "            count += 1\n",
    "\n",
    "            if count > 10:\n",
    "                break\n",
    "\n",
    "print(count)\n",
    "# print(f\" > {min_papers} papers \\t {count}\")\n",
    "\n",
    "\n",
    "# with open(f'auther_database_v5_5_1_extended_no_score.json', 'w') as file:\n",
    "#     json.dump(author_database, file, indent=4)"
   ]
  },
  {
   "cell_type": "markdown",
   "metadata": {},
   "source": [
    "# Find affiliation"
   ]
  },
  {
   "cell_type": "code",
   "execution_count": 6,
   "metadata": {},
   "outputs": [
    {
     "ename": "AssertionError",
     "evalue": "",
     "output_type": "error",
     "traceback": [
      "\u001b[0;31m---------------------------------------------------------------------------\u001b[0m",
      "\u001b[0;31mAssertionError\u001b[0m                            Traceback (most recent call last)",
      "Cell \u001b[0;32mIn[6], line 27\u001b[0m\n\u001b[1;32m     22\u001b[0m agent\u001b[38;5;241m.\u001b[39minstructions_text \u001b[38;5;241m=\u001b[39m instruct_text\n\u001b[1;32m     24\u001b[0m content_text \u001b[38;5;241m=\u001b[39m \u001b[38;5;124m\"\u001b[39m\u001b[38;5;124m'\u001b[39m\u001b[38;5;124mCentre for Advanced Robotics Technology Innovation (CARTIN)\u001b[39m\u001b[38;5;124m'\u001b[39m\u001b[38;5;124m, \u001b[39m\u001b[38;5;124m'\u001b[39m\u001b[38;5;124mSchool of Electrical and Electronic Engineering\u001b[39m\u001b[38;5;124m'\u001b[39m\u001b[38;5;124m, \u001b[39m\u001b[38;5;124m'\u001b[39m\u001b[38;5;124mNanyang Technological University, Singapore\u001b[39m\u001b[38;5;124m'\u001b[39m\u001b[38;5;124m\"\u001b[39m\n\u001b[0;32m---> 27\u001b[0m affiliation \u001b[38;5;241m=\u001b[39m \u001b[43magent\u001b[49m\u001b[38;5;241;43m.\u001b[39;49m\u001b[43mjudge_affiliation\u001b[49m\u001b[43m(\u001b[49m\u001b[43mcontent_text\u001b[49m\u001b[43m,\u001b[49m\u001b[43m \u001b[49m\u001b[43mverbose\u001b[49m\u001b[38;5;241;43m=\u001b[39;49m\u001b[38;5;28;43;01mFalse\u001b[39;49;00m\u001b[43m)\u001b[49m\n\u001b[1;32m     29\u001b[0m \u001b[38;5;28mprint\u001b[39m(affiliation)\n",
      "File \u001b[0;32m/scratch/shaoshus/roboranking/llama/llama_generation.py:122\u001b[0m, in \u001b[0;36mLLAMA_Generation.judge_affiliation\u001b[0;34m(self, content_text, verbose)\u001b[0m\n\u001b[1;32m    108\u001b[0m \u001b[38;5;28;01mdef\u001b[39;00m \u001b[38;5;21mjudge_affiliation\u001b[39m(\u001b[38;5;28mself\u001b[39m, \n\u001b[1;32m    109\u001b[0m              content_text: \u001b[38;5;28mstr\u001b[39m,\n\u001b[1;32m    110\u001b[0m              verbose: \u001b[38;5;28mbool\u001b[39m \u001b[38;5;241m=\u001b[39m \u001b[38;5;28;01mTrue\u001b[39;00m):\n\u001b[1;32m    112\u001b[0m     dialogs: List[Dialog] \u001b[38;5;241m=\u001b[39m [\n\u001b[1;32m    113\u001b[0m         [\n\u001b[1;32m    114\u001b[0m             {\n\u001b[0;32m   (...)\u001b[0m\n\u001b[1;32m    120\u001b[0m         ],\n\u001b[1;32m    121\u001b[0m     ]\n\u001b[0;32m--> 122\u001b[0m     results \u001b[38;5;241m=\u001b[39m \u001b[38;5;28;43mself\u001b[39;49m\u001b[38;5;241;43m.\u001b[39;49m\u001b[43mgenerator\u001b[49m\u001b[38;5;241;43m.\u001b[39;49m\u001b[43mchat_completion\u001b[49m\u001b[43m(\u001b[49m\n\u001b[1;32m    123\u001b[0m \u001b[43m        \u001b[49m\u001b[43mdialogs\u001b[49m\u001b[43m,\u001b[49m\u001b[43m  \u001b[49m\u001b[38;5;66;43;03m# type: ignore\u001b[39;49;00m\n\u001b[1;32m    124\u001b[0m \u001b[43m        \u001b[49m\u001b[43mmax_gen_len\u001b[49m\u001b[38;5;241;43m=\u001b[39;49m\u001b[38;5;28;43mself\u001b[39;49m\u001b[38;5;241;43m.\u001b[39;49m\u001b[43mmax_gen_len\u001b[49m\u001b[43m,\u001b[49m\n\u001b[1;32m    125\u001b[0m \u001b[43m        \u001b[49m\u001b[43mtemperature\u001b[49m\u001b[38;5;241;43m=\u001b[39;49m\u001b[38;5;28;43mself\u001b[39;49m\u001b[38;5;241;43m.\u001b[39;49m\u001b[43mtemperature\u001b[49m\u001b[43m,\u001b[49m\n\u001b[1;32m    126\u001b[0m \u001b[43m        \u001b[49m\u001b[43mtop_p\u001b[49m\u001b[38;5;241;43m=\u001b[39;49m\u001b[38;5;28;43mself\u001b[39;49m\u001b[38;5;241;43m.\u001b[39;49m\u001b[43mtop_p\u001b[49m\u001b[43m,\u001b[49m\n\u001b[1;32m    127\u001b[0m \u001b[43m    \u001b[49m\u001b[43m)\u001b[49m\n\u001b[1;32m    129\u001b[0m     \u001b[38;5;28;01mfor\u001b[39;00m dialog, result \u001b[38;5;129;01min\u001b[39;00m \u001b[38;5;28mzip\u001b[39m(dialogs, results):\n\u001b[1;32m    130\u001b[0m         \u001b[38;5;28;01mfor\u001b[39;00m msg \u001b[38;5;129;01min\u001b[39;00m dialog:\n",
      "File \u001b[0;32m/scratch/shaoshus/roboranking/llama/llama/generation.py:365\u001b[0m, in \u001b[0;36mLlama.chat_completion\u001b[0;34m(self, dialogs, temperature, top_p, max_gen_len, logprobs)\u001b[0m\n\u001b[1;32m    358\u001b[0m     dialog_tokens \u001b[38;5;241m+\u001b[39m\u001b[38;5;241m=\u001b[39m \u001b[38;5;28mself\u001b[39m\u001b[38;5;241m.\u001b[39mtokenizer\u001b[38;5;241m.\u001b[39mencode(\n\u001b[1;32m    359\u001b[0m         \u001b[38;5;124mf\u001b[39m\u001b[38;5;124m\"\u001b[39m\u001b[38;5;132;01m{\u001b[39;00mB_INST\u001b[38;5;132;01m}\u001b[39;00m\u001b[38;5;124m \u001b[39m\u001b[38;5;132;01m{\u001b[39;00m(dialog[\u001b[38;5;241m-\u001b[39m\u001b[38;5;241m1\u001b[39m][\u001b[38;5;124m'\u001b[39m\u001b[38;5;124mcontent\u001b[39m\u001b[38;5;124m'\u001b[39m])\u001b[38;5;241m.\u001b[39mstrip()\u001b[38;5;132;01m}\u001b[39;00m\u001b[38;5;124m \u001b[39m\u001b[38;5;132;01m{\u001b[39;00mE_INST\u001b[38;5;132;01m}\u001b[39;00m\u001b[38;5;124m\"\u001b[39m,\n\u001b[1;32m    360\u001b[0m         bos\u001b[38;5;241m=\u001b[39m\u001b[38;5;28;01mTrue\u001b[39;00m,\n\u001b[1;32m    361\u001b[0m         eos\u001b[38;5;241m=\u001b[39m\u001b[38;5;28;01mFalse\u001b[39;00m,\n\u001b[1;32m    362\u001b[0m     )\n\u001b[1;32m    363\u001b[0m     prompt_tokens\u001b[38;5;241m.\u001b[39mappend(dialog_tokens)\n\u001b[0;32m--> 365\u001b[0m generation_tokens, generation_logprobs \u001b[38;5;241m=\u001b[39m \u001b[38;5;28;43mself\u001b[39;49m\u001b[38;5;241;43m.\u001b[39;49m\u001b[43mgenerate\u001b[49m\u001b[43m(\u001b[49m\n\u001b[1;32m    366\u001b[0m \u001b[43m    \u001b[49m\u001b[43mprompt_tokens\u001b[49m\u001b[38;5;241;43m=\u001b[39;49m\u001b[43mprompt_tokens\u001b[49m\u001b[43m,\u001b[49m\n\u001b[1;32m    367\u001b[0m \u001b[43m    \u001b[49m\u001b[43mmax_gen_len\u001b[49m\u001b[38;5;241;43m=\u001b[39;49m\u001b[43mmax_gen_len\u001b[49m\u001b[43m,\u001b[49m\n\u001b[1;32m    368\u001b[0m \u001b[43m    \u001b[49m\u001b[43mtemperature\u001b[49m\u001b[38;5;241;43m=\u001b[39;49m\u001b[43mtemperature\u001b[49m\u001b[43m,\u001b[49m\n\u001b[1;32m    369\u001b[0m \u001b[43m    \u001b[49m\u001b[43mtop_p\u001b[49m\u001b[38;5;241;43m=\u001b[39;49m\u001b[43mtop_p\u001b[49m\u001b[43m,\u001b[49m\n\u001b[1;32m    370\u001b[0m \u001b[43m    \u001b[49m\u001b[43mlogprobs\u001b[49m\u001b[38;5;241;43m=\u001b[39;49m\u001b[43mlogprobs\u001b[49m\u001b[43m,\u001b[49m\n\u001b[1;32m    371\u001b[0m \u001b[43m\u001b[49m\u001b[43m)\u001b[49m\n\u001b[1;32m    372\u001b[0m \u001b[38;5;28;01mif\u001b[39;00m logprobs:\n\u001b[1;32m    373\u001b[0m     \u001b[38;5;28;01mreturn\u001b[39;00m [\n\u001b[1;32m    374\u001b[0m         {\n\u001b[1;32m    375\u001b[0m             \u001b[38;5;124m\"\u001b[39m\u001b[38;5;124mgeneration\u001b[39m\u001b[38;5;124m\"\u001b[39m: {\n\u001b[0;32m   (...)\u001b[0m\n\u001b[1;32m    386\u001b[0m         )\n\u001b[1;32m    387\u001b[0m     ]\n",
      "File \u001b[0;32m/data/shaoshus/miniconda3/envs/roboranking/lib/python3.9/site-packages/torch/utils/_contextlib.py:115\u001b[0m, in \u001b[0;36mcontext_decorator.<locals>.decorate_context\u001b[0;34m(*args, **kwargs)\u001b[0m\n\u001b[1;32m    112\u001b[0m \u001b[38;5;129m@functools\u001b[39m\u001b[38;5;241m.\u001b[39mwraps(func)\n\u001b[1;32m    113\u001b[0m \u001b[38;5;28;01mdef\u001b[39;00m \u001b[38;5;21mdecorate_context\u001b[39m(\u001b[38;5;241m*\u001b[39margs, \u001b[38;5;241m*\u001b[39m\u001b[38;5;241m*\u001b[39mkwargs):\n\u001b[1;32m    114\u001b[0m     \u001b[38;5;28;01mwith\u001b[39;00m ctx_factory():\n\u001b[0;32m--> 115\u001b[0m         \u001b[38;5;28;01mreturn\u001b[39;00m \u001b[43mfunc\u001b[49m\u001b[43m(\u001b[49m\u001b[38;5;241;43m*\u001b[39;49m\u001b[43margs\u001b[49m\u001b[43m,\u001b[49m\u001b[43m \u001b[49m\u001b[38;5;241;43m*\u001b[39;49m\u001b[38;5;241;43m*\u001b[39;49m\u001b[43mkwargs\u001b[49m\u001b[43m)\u001b[49m\n",
      "File \u001b[0;32m/scratch/shaoshus/roboranking/llama/llama/generation.py:165\u001b[0m, in \u001b[0;36mLlama.generate\u001b[0;34m(self, prompt_tokens, max_gen_len, temperature, top_p, logprobs, echo)\u001b[0m\n\u001b[1;32m    163\u001b[0m min_prompt_len \u001b[38;5;241m=\u001b[39m \u001b[38;5;28mmin\u001b[39m(\u001b[38;5;28mlen\u001b[39m(t) \u001b[38;5;28;01mfor\u001b[39;00m t \u001b[38;5;129;01min\u001b[39;00m prompt_tokens)\n\u001b[1;32m    164\u001b[0m max_prompt_len \u001b[38;5;241m=\u001b[39m \u001b[38;5;28mmax\u001b[39m(\u001b[38;5;28mlen\u001b[39m(t) \u001b[38;5;28;01mfor\u001b[39;00m t \u001b[38;5;129;01min\u001b[39;00m prompt_tokens)\n\u001b[0;32m--> 165\u001b[0m \u001b[38;5;28;01massert\u001b[39;00m max_prompt_len \u001b[38;5;241m<\u001b[39m\u001b[38;5;241m=\u001b[39m params\u001b[38;5;241m.\u001b[39mmax_seq_len\n\u001b[1;32m    166\u001b[0m total_len \u001b[38;5;241m=\u001b[39m \u001b[38;5;28mmin\u001b[39m(params\u001b[38;5;241m.\u001b[39mmax_seq_len, max_gen_len \u001b[38;5;241m+\u001b[39m max_prompt_len)\n\u001b[1;32m    168\u001b[0m pad_id \u001b[38;5;241m=\u001b[39m \u001b[38;5;28mself\u001b[39m\u001b[38;5;241m.\u001b[39mtokenizer\u001b[38;5;241m.\u001b[39mpad_id\n",
      "\u001b[0;31mAssertionError\u001b[0m: "
     ]
    }
   ],
   "source": [
    "# read csv to string\n",
    "\n",
    "# with open('country-info3_3.csv', 'r') as file:\n",
    "#     author_database = json.load(file)\n",
    "\n",
    "import csv\n",
    "\n",
    "file_path = 'country-info3_3.csv'  # Replace this with your file path\n",
    "\n",
    "with open(file_path, newline='') as csvfile:\n",
    "    reader = csv.reader(csvfile)\n",
    "    next(reader, None)  # Skip the header row\n",
    "    first_column_values = [row[0] for row in reader if row]  # Check if row is not empty\n",
    "    csv_string = '\\n'.join(first_column_values)\n",
    "\n",
    "\n",
    "instruct_text = \\\n",
    "    \"Based on the given information, please provide which of the following institute is the people belong to. \" \\\n",
    "    \"If the information is not enough to determine the institute, please provide the answer as 'N/A'.\\n\" + \\\n",
    "csv_string\n",
    "\n",
    "agent.instructions_text = instruct_text\n",
    "\n",
    "content_text = \"'Centre for Advanced Robotics Technology Innovation (CARTIN)', 'School of Electrical and Electronic Engineering', 'Nanyang Technological University, Singapore'\"\n",
    "\n",
    "\n",
    "affiliation = agent.judge_affiliation(content_text, verbose=False)\n",
    "\n",
    "print(affiliation)\n"
   ]
  },
  {
   "cell_type": "markdown",
   "metadata": {},
   "source": [
    "# delete the agent and empty the GPU memory"
   ]
  },
  {
   "cell_type": "code",
   "execution_count": 8,
   "metadata": {},
   "outputs": [],
   "source": [
    "del agent\n",
    "import gc\n",
    "gc.collect()\n",
    "# clena the GPU memory\n",
    "import torch\n",
    "torch.cuda.empty_cache()"
   ]
  }
 ],
 "metadata": {
  "kernelspec": {
   "display_name": "roboranking",
   "language": "python",
   "name": "python3"
  },
  "language_info": {
   "codemirror_mode": {
    "name": "ipython",
    "version": 3
   },
   "file_extension": ".py",
   "mimetype": "text/x-python",
   "name": "python",
   "nbconvert_exporter": "python",
   "pygments_lexer": "ipython3",
   "version": "3.9.19"
  }
 },
 "nbformat": 4,
 "nbformat_minor": 2
}
