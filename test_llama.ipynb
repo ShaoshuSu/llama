{
 "cells": [
  {
   "cell_type": "code",
   "execution_count": null,
   "metadata": {},
   "outputs": [],
   "source": [
    "from llama_generation import LLAMA_Generation\n",
    "\n",
    "import os\n",
    "\n",
    "os.environ['MASTER_ADDR'] = 'localhost'\n",
    "os.environ['MASTER_PORT'] = '12355'\n",
    "os.environ['RANK'] = '0'\n",
    "os.environ['WORLD_SIZE'] = '2'\n",
    "\n",
    "agent = LLAMA_Generation(\n",
    "        ckpt_dir='llama-2-13b-chat/',\n",
    "        tokenizer_path='tokenizer.model',\n",
    "        max_seq_len=512,\n",
    "        max_batch_size=8\n",
    ")"
   ]
  },
  {
   "cell_type": "code",
   "execution_count": null,
   "metadata": {},
   "outputs": [],
   "source": [
    "content_text =\\\n",
    "    \"Younbaek Lee received the M.S. degree in mechanical engineering from Korea Advanced Institute of Science and Technology, Daejeon, South Korea, in 2003.,He is currently a research staff member of the Samsung Advanced Institute of Technology, South Korea. His research interests include electromechanical design, medical/rehabilitation robotics, humanoids, manipulators and physical human-machine interaction.(Based on document published on 14 June 2019)..\"\n",
    "\n",
    "response = agent.generate(content_text, verbose=False)\n",
    "\n",
    "import time\n",
    "start = time.time()\n",
    "# remove space in string\n",
    "response = response.replace(\" \", \"\")\n",
    "print(response)\n",
    "print(time.time() - start)"
   ]
  },
  {
   "cell_type": "markdown",
   "metadata": {},
   "source": [
    "# delete the agent and empty the GPU memory"
   ]
  },
  {
   "cell_type": "code",
   "execution_count": null,
   "metadata": {},
   "outputs": [],
   "source": [
    "del agent\n",
    "import gc\n",
    "gc.collect()\n",
    "# clena the GPU memory\n",
    "import torch\n",
    "torch.cuda.empty_cache()"
   ]
  }
 ],
 "metadata": {
  "kernelspec": {
   "display_name": "roboranking",
   "language": "python",
   "name": "python3"
  },
  "language_info": {
   "codemirror_mode": {
    "name": "ipython",
    "version": 3
   },
   "file_extension": ".py",
   "mimetype": "text/x-python",
   "name": "python",
   "nbconvert_exporter": "python",
   "pygments_lexer": "ipython3",
   "version": "3.9.18"
  }
 },
 "nbformat": 4,
 "nbformat_minor": 2
}
