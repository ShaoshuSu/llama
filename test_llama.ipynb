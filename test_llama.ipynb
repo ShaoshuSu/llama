{
 "cells": [
  {
   "cell_type": "code",
   "execution_count": null,
   "metadata": {},
   "outputs": [],
   "source": [
    "from llama_generation import LLAMA_Generation\n",
    "\n",
    "agent = LLAMA_Generation()\n",
    "\n",
    "# response = agent.generate(content_text, verbose=False)\n",
    "# print(response)"
   ]
  },
  {
   "cell_type": "code",
   "execution_count": 2,
   "metadata": {},
   "outputs": [
    {
     "name": "stdout",
     "output_type": "stream",
     "text": [
      "YES\n",
      "7.915496826171875e-05\n"
     ]
    }
   ],
   "source": [
    "content_text =\\\n",
    "    \"Yan Zhuang (Senior Member, IEEE) received the Ph.D. degree in control theory and control engineering from the Dalian University of Technology, \\\n",
    "Dalian, China.,He is a Professor with the School of Artificial Intelligence, Dalian University of Technology, leading the Intelligent Robotics Laboratory \\\n",
    "(DUT Robotics Laboratory). His research interests include intelligent sensing, modeling, scene recognition, and understanding for mobile robots and other \\\n",
    "autonomous systems.(Based on document published on 8 August 2023).\"\n",
    "\n",
    "response = agent.generate(content_text, verbose=False)\n",
    "\n",
    "import time\n",
    "start = time.time()\n",
    "# remove space in string\n",
    "response = response.replace(\" \", \"\")\n",
    "print(response)\n",
    "print(time.time() - start)\n",
    "\n",
    "# delete the agent and empty the GPU memory\n",
    "del agent\n",
    "import gc\n",
    "gc.collect()\n",
    "# clena the GPU memory\n",
    "import torch\n",
    "torch.cuda.empty_cache()"
   ]
  }
 ],
 "metadata": {
  "kernelspec": {
   "display_name": "roboranking",
   "language": "python",
   "name": "python3"
  },
  "language_info": {
   "codemirror_mode": {
    "name": "ipython",
    "version": 3
   },
   "file_extension": ".py",
   "mimetype": "text/x-python",
   "name": "python",
   "nbconvert_exporter": "python",
   "pygments_lexer": "ipython3",
   "version": "3.8.18"
  }
 },
 "nbformat": 4,
 "nbformat_minor": 2
}
